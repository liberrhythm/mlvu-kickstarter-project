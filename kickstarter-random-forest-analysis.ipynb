{
 "cells": [
  {
   "cell_type": "code",
   "execution_count": null,
   "metadata": {},
   "outputs": [],
   "source": [
    "# YOU MUST COPY AND RUN THE FIRST FOUR CELLS FOR THE DATA TO BE CORRECT!!! DON'T FORGET TO DO THAT."
   ]
  },
  {
   "cell_type": "code",
   "execution_count": null,
   "metadata": {},
   "outputs": [],
   "source": [
    "# relevant imports\n",
    "\n",
    "# base\n",
    "import numpy as np\n",
    "import pandas as pd\n",
    "pd.options.mode.chained_assignment = None  # default='warn'\n",
    "\n",
    "# data prep\n",
    "from sklearn import preprocessing\n",
    "from sklearn import datasets, linear_model\n",
    "from sklearn.model_selection import train_test_split, KFold\n",
    "from sklearn.feature_extraction.text import CountVectorizer, TfidfVectorizer, TfidfTransformer\n",
    "from scipy import stats\n",
    "\n",
    "# nltk\n",
    "from nltk.stem import WordNetLemmatizer\n",
    "from nltk import word_tokenize\n",
    "\n",
    "# import metrics\n",
    "from sklearn.metrics import accuracy_score, balanced_accuracy_score, confusion_matrix, average_precision_score\n",
    "from sklearn.metrics import classification_report, roc_auc_score, roc_curve, log_loss, precision_recall_curve\n",
    "# !pip install seaborn\n",
    "import seaborn as sn\n",
    "import pandas as pd\n",
    "\n",
    "# import matplotlib\n",
    "import matplotlib.pyplot as plt\n",
    "\n",
    "# uncomment !pip install commands if you get an error"
   ]
  },
  {
   "cell_type": "code",
   "execution_count": 2,
   "metadata": {},
   "outputs": [],
   "source": [
    "# import feature data - make sure csv files are in the same directory\n",
    "# x_train = pd.read_csv(\"./x_train.csv\")\n",
    "# x_val = pd.read_csv(\"./x_val.csv\")\n",
    "x_train_val = pd.read_csv(\"./x_train_val.csv\")\n",
    "x_test = pd.read_csv(\"./x_test.csv\")"
   ]
  },
  {
   "cell_type": "code",
   "execution_count": 3,
   "metadata": {},
   "outputs": [],
   "source": [
    "# import state data => no header, so you have to specify header=None\n",
    "y_name = [\"state\"]\n",
    "# y_train = pd.read_csv(\"./y_train.csv\", names=y_name, header=None)\n",
    "# y_val = pd.read_csv(\"./y_val.csv\", names=y_name, header=None)\n",
    "y_train_val = pd.read_csv(\"./y_train_val.csv\", names=y_name, header=None)\n",
    "y_test = pd.read_csv(\"./y_test.csv\", names=y_name, header=None)"
   ]
  },
  {
   "cell_type": "code",
   "execution_count": 4,
   "metadata": {},
   "outputs": [],
   "source": [
    "# y_train['state'] = y_train['state'].astype('category')\n",
    "# y_val['state'] = y_val['state'].astype('category')\n",
    "y_train_val['state'] = y_train_val['state'].astype('category')\n",
    "y_test['state'] = y_test['state'].astype('category')"
   ]
  },
  {
   "cell_type": "code",
   "execution_count": 5,
   "metadata": {},
   "outputs": [],
   "source": [
    "# flatten 1-column dataframe into series\n",
    "# y_train = y_train['state']\n",
    "# y_val = y_val['state']\n",
    "y_train_val = y_train_val['state']\n",
    "y_test = y_test['state']"
   ]
  },
  {
   "cell_type": "code",
   "execution_count": null,
   "metadata": {},
   "outputs": [],
   "source": [
    "# START OF MY RANDOM FOREST MODEL"
   ]
  },
  {
   "cell_type": "code",
   "execution_count": 6,
   "metadata": {},
   "outputs": [],
   "source": [
    "# load scikit's random forest classifier library, initialize, and fit model with training data\n",
    "# https://chrisalbon.com/machine_learning/trees_and_forests/random_forest_classifier_example/\n",
    "# http://dataaspirant.com/2017/06/26/random-forest-classifier-python-scikit-learn/\n",
    "from sklearn.ensemble import RandomForestClassifier\n",
    "clf = RandomForestClassifier(n_estimators=100, random_state=0, max_depth=1000, min_samples_split=10, min_samples_leaf=4, criterion='gini')\n",
    "# clf.fit(x_train, y_train)"
   ]
  },
  {
   "cell_type": "code",
   "execution_count": 7,
   "metadata": {},
   "outputs": [
    {
     "data": {
      "text/plain": [
       "RandomForestClassifier(bootstrap=True, class_weight=None, criterion='gini',\n",
       "            max_depth=1000, max_features='auto', max_leaf_nodes=None,\n",
       "            min_impurity_decrease=0.0, min_impurity_split=None,\n",
       "            min_samples_leaf=4, min_samples_split=10,\n",
       "            min_weight_fraction_leaf=0.0, n_estimators=100, n_jobs=None,\n",
       "            oob_score=False, random_state=0, verbose=0, warm_start=False)"
      ]
     },
     "execution_count": 7,
     "metadata": {},
     "output_type": "execute_result"
    }
   ],
   "source": [
    "# clf.get_params()\n",
    "# clf.fit(x_train, y_train)\n",
    "clf.fit(x_train_val, y_train_val)"
   ]
  },
  {
   "cell_type": "code",
   "execution_count": null,
   "metadata": {},
   "outputs": [],
   "source": [
    "# RANDOM SEARCH HYPERPARAMETER TUNING\n",
    "# Random search of parameters, using 3 fold cross validation, search across 100 different combinations, and use all available cores\n",
    "# clf_random = RandomizedSearchCV(estimator = clf, param_distributions = random_grid, n_iter = 5, cv = 3, verbose=2, random_state=42, n_jobs = 2)\n",
    "# Fit the random search model\n",
    "# clf_random.fit(x_train, y_train)"
   ]
  },
  {
   "cell_type": "code",
   "execution_count": 8,
   "metadata": {},
   "outputs": [],
   "source": [
    "# predictions and probabilities\n",
    "# predictions = clf.predict(x_val)\n",
    "# probabilities = clf.predict_proba(x_val)\n",
    "# training_predictions = clf.predict(x_train)\n",
    "\n",
    "predictions = clf.predict(x_test)\n",
    "probabilities = clf.predict_proba(x_test)\n",
    "training_predictions = clf.predict(x_train_val)"
   ]
  },
  {
   "cell_type": "code",
   "execution_count": null,
   "metadata": {},
   "outputs": [],
   "source": [
    "# importance of each feature\n",
    "# list(zip(x_train, clf.feature_importances_))"
   ]
  },
  {
   "cell_type": "code",
   "execution_count": null,
   "metadata": {},
   "outputs": [],
   "source": [
    "# CLASSIFICATION METRICS\n",
    "# https://scikit-learn.org/stable/modules/model_evaluation.html#classification-metrics\n",
    "# https://medium.com/usf-msds/choosing-the-right-metric-for-evaluating-machine-learning-models-part-2-86d5649a5428"
   ]
  },
  {
   "cell_type": "code",
   "execution_count": 9,
   "metadata": {},
   "outputs": [
    {
     "name": "stdout",
     "output_type": "stream",
     "text": [
      "Training Accuracy:  0.7318723147659607\n",
      "Validation Accuracy:  0.6865154141855733\n"
     ]
    }
   ],
   "source": [
    "# training and validation accuracy\n",
    "# print (\"Training Accuracy: \", accuracy_score(y_train, training_predictions))\n",
    "# print (\"Validation Accuracy: \", accuracy_score(y_val, predictions))\n",
    "# training and validation balanced accuracy\n",
    "# print (\"Training Balanced Accuracy: \", balanced_accuracy_score(y_train, training_predictions))\n",
    "# print (\"Validation Balanced Accuracy: \", balanced_accuracy_score(y_val, predictions))\n",
    "\n",
    "print (\"Training Accuracy: \", accuracy_score(y_train_val, training_predictions))\n",
    "print (\"Validation Accuracy: \", accuracy_score(y_test, predictions))"
   ]
  },
  {
   "cell_type": "code",
   "execution_count": 11,
   "metadata": {},
   "outputs": [],
   "source": [
    "# confusion matrix basic stats\n",
    "# cm = confusion_matrix(y_val, predictions)\n",
    "# print(\"Confusion matrix\")\n",
    "# print(cm)\n",
    "# better confusion matrix depiction\n",
    "# pd.crosstab(y_val, predictions, rownames=['Actual Status'], colnames=['Predicted Status'])\n",
    "\n",
    "cm = confusion_matrix(y_test, predictions)"
   ]
  },
  {
   "cell_type": "code",
   "execution_count": 15,
   "metadata": {},
   "outputs": [
    {
     "data": {
      "text/plain": [
       "Text(0.5,1,'Confusion Matrix - Final Random Forest Classifier')"
      ]
     },
     "execution_count": 15,
     "metadata": {},
     "output_type": "execute_result"
    },
    {
     "data": {
      "image/png": "[encoded data removed]",
      "text/plain": [
       "<Figure size 432x288 with 2 Axes>"
      ]
     },
     "metadata": {},
     "output_type": "display_data"
    }
   ],
   "source": [
    "# best confusion matrix depiction using seaborn heatmap\n",
    "# class_names = y_val.unique()\n",
    "class_names = y_test.unique()\n",
    "df_cm = pd.DataFrame(cm, index=class_names, columns=class_names)\n",
    "fig = plt.figure()\n",
    "heatmap = sn.heatmap(df_cm, annot=True, fmt=\"d\")\n",
    "plt.xlabel('Predicted status')\n",
    "plt.ylabel('Actual status')\n",
    "plt.title('Confusion Matrix - Final Random Forest Classifier')"
   ]
  },
  {
   "cell_type": "code",
   "execution_count": null,
   "metadata": {},
   "outputs": [],
   "source": [
    "# classification report with relevant statistics\n",
    "cr = classification_report(y_val, predictions)\n",
    "print(cr)"
   ]
  },
  {
   "cell_type": "code",
   "execution_count": 13,
   "metadata": {},
   "outputs": [
    {
     "name": "stdout",
     "output_type": "stream",
     "text": [
      "ROC_AUC score:  0.7454085460448436\n"
     ]
    }
   ],
   "source": [
    "# print(\"Log loss: \", log_loss(y_val, probabilities))\n",
    "# get probabilities for the positive class (second column in probabilities)\n",
    "positive_probabilities = probabilities[:,1]\n",
    "# is over 0.5 - which is the standard for a no-skill model\n",
    "# print(\"ROC_AUC score: \", roc_auc_score(y_val, positive_probabilities))\n",
    "print(\"ROC_AUC score: \", roc_auc_score(y_test, positive_probabilities))"
   ]
  },
  {
   "cell_type": "code",
   "execution_count": 14,
   "metadata": {},
   "outputs": [
    {
     "data": {
      "image/png": "[encoded data removed]",
      "text/plain": [
       "<Figure size 432x288 with 1 Axes>"
      ]
     },
     "metadata": {},
     "output_type": "display_data"
    }
   ],
   "source": [
    "# our dataset is balanced - this one is better\n",
    "# plot ROC curve\n",
    "# https://machinelearningmastery.com/roc-curves-and-precision-recall-curves-for-classification-in-python/\n",
    "# fpr, tpr, thresholds = roc_curve(y_val, positive_probabilities, pos_label=\"successful\")\n",
    "fpr, tpr, thresholds = roc_curve(y_test, positive_probabilities, pos_label=\"successful\")\n",
    "\n",
    "# plot no skill\n",
    "plt.plot([0, 1], [0, 1], linestyle='--')\n",
    "# plot the roc curve for the model\n",
    "plt.plot(fpr, tpr, marker='.')\n",
    "plt.title(\"ROC Curve - Final Random Forest Classifier\")\n",
    "plt.xlabel(\"FPR\")\n",
    "plt.ylabel(\"TPR\")\n",
    "# show the plot\n",
    "plt.show()"
   ]
  },
  {
   "cell_type": "code",
   "execution_count": 17,
   "metadata": {},
   "outputs": [
    {
     "data": {
      "image/png": "[encoded data removed]",
      "text/plain": [
       "<Figure size 432x288 with 1 Axes>"
      ]
     },
     "metadata": {},
     "output_type": "display_data"
    }
   ],
   "source": [
    "# plot precision-recall curve\n",
    "# precision, recall, thresholds = precision_recall_curve(y_val.cat.codes, positive_probabilities)\n",
    "precision, recall, thresholds = precision_recall_curve(y_test, positive_probabilities, pos_label=\"successful\")\n",
    "# plot no skill\n",
    "plt.plot([0, 1], [0.5, 0.5], linestyle='--')\n",
    "# plot the roc curve for the model\n",
    "plt.plot(recall, precision, marker='.')\n",
    "plt.title(\"Precision-Recall Curve - Final Random Forest Classifier\")\n",
    "plt.xlabel(\"Recall\")\n",
    "plt.ylabel(\"Precision\")\n",
    "# show the plot\n",
    "plt.show()"
   ]
  },
  {
   "cell_type": "code",
   "execution_count": null,
   "metadata": {},
   "outputs": [],
   "source": [
    "# using only these four features\n",
    "# feats = ['usd_goal_real','duration_days','goal*days','name_sentiment']\n",
    "# clf.fit(x_train[feats], y_train)\n",
    "# predictions and probabilities\n",
    "# predictions = clf.predict(x_val[feats])\n",
    "# probabilities = clf.predict_proba(x_val[feats])\n",
    "# training and validation accuracy\n",
    "# print (\"Train Accuracy: \", accuracy_score(y_train, clf.predict(x_train[feats])))\n",
    "# print (\"Validation Accuracy: \", accuracy_score(y_val, predictions))"
   ]
  },
  {
   "cell_type": "code",
   "execution_count": null,
   "metadata": {},
   "outputs": [],
   "source": []
  },
  {
   "cell_type": "code",
   "execution_count": null,
   "metadata": {},
   "outputs": [],
   "source": []
  }
 ],
 "metadata": {
  "kernelspec": {
   "display_name": "Python 3",
   "language": "python",
   "name": "python3"
  },
  "language_info": {
   "codemirror_mode": {
    "name": "ipython",
    "version": 3
   },
   "file_extension": ".py",
   "mimetype": "text/x-python",
   "name": "python",
   "nbconvert_exporter": "python",
   "pygments_lexer": "ipython3",
   "version": "3.7.0"
  }
 },
 "nbformat": 4,
 "nbformat_minor": 2
}
